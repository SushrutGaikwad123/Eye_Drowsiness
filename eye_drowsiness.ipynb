{
 "cells": [
  {
   "cell_type": "code",
   "execution_count": 1,
   "id": "09602b1e",
   "metadata": {},
   "outputs": [
    {
     "name": "stdout",
     "output_type": "stream",
     "text": [
      "WARNING:tensorflow:From C:\\Users\\User\\anaconda3\\Lib\\site-packages\\keras\\src\\losses.py:2976: The name tf.losses.sparse_softmax_cross_entropy is deprecated. Please use tf.compat.v1.losses.sparse_softmax_cross_entropy instead.\n",
      "\n"
     ]
    }
   ],
   "source": [
    "#required Libraries \n",
    "import matplotlib.pyplot as plt\n",
    "import numpy as np\n",
    "import PIL\n",
    "import tensorflow as tf\n",
    "from tensorflow.keras.layers import Dense, GlobalAveragePooling2D, Dropout, Flatten, Conv2D, MaxPooling2D\n",
    "from tensorflow.keras.models import Sequential\n",
    "from tensorflow.keras.optimizers import Adam"
   ]
  },
  {
   "cell_type": "code",
   "execution_count": 2,
   "id": "31af7352",
   "metadata": {},
   "outputs": [
    {
     "name": "stdout",
     "output_type": "stream",
     "text": [
      "Found 31157 images belonging to 2 classes.\n"
     ]
    }
   ],
   "source": [
    "from tensorflow.keras.preprocessing.image import ImageDataGenerator\n",
    "# Preprocess all train images\n",
    "train_datagen = ImageDataGenerator(validation_split=0.2)\n",
    "\n",
    "train_generator = train_datagen.flow_from_directory( 'train',\n",
    "                                                     target_size=(32,32),\n",
    "                                                     batch_size=32,\n",
    "                                                     shuffle=True,\n",
    "                                                     class_mode='categorical',\n",
    "                                                     subset='training')"
   ]
  },
  {
   "cell_type": "code",
   "execution_count": 3,
   "id": "5d9b7589",
   "metadata": {},
   "outputs": [
    {
     "name": "stdout",
     "output_type": "stream",
     "text": [
      "Found 2123 images belonging to 2 classes.\n"
     ]
    }
   ],
   "source": [
    "# Preprocess all test images\n",
    "validation_datagen = ImageDataGenerator(validation_split=0.2)\n",
    "\n",
    "validation_generator =  validation_datagen.flow_from_directory( 'test',\n",
    "                                                                target_size=(32,32),\n",
    "                                                                batch_size=32,\n",
    "                                                                class_mode='categorical',\n",
    "                                                                subset='validation') "
   ]
  },
  {
   "cell_type": "code",
   "execution_count": 4,
   "id": "e1ba51e8",
   "metadata": {},
   "outputs": [
    {
     "name": "stdout",
     "output_type": "stream",
     "text": [
      "WARNING:tensorflow:From C:\\Users\\User\\anaconda3\\Lib\\site-packages\\keras\\src\\backend.py:873: The name tf.get_default_graph is deprecated. Please use tf.compat.v1.get_default_graph instead.\n",
      "\n",
      "WARNING:tensorflow:From C:\\Users\\User\\anaconda3\\Lib\\site-packages\\keras\\src\\layers\\pooling\\max_pooling2d.py:161: The name tf.nn.max_pool is deprecated. Please use tf.nn.max_pool2d instead.\n",
      "\n"
     ]
    }
   ],
   "source": [
    "# create model structure\n",
    "eye_model = Sequential()\n",
    "\n",
    "eye_model.add(Conv2D(32, kernel_size=(3, 3), activation='relu', input_shape=(32,32,3)))\n",
    "eye_model.add(MaxPooling2D(pool_size=(1,1)))\n",
    "\n",
    "eye_model.add(Conv2D(32,(3,3),activation='relu'))\n",
    "eye_model.add(MaxPooling2D(pool_size=(1,1)))\n",
    "\n",
    "eye_model.add(Conv2D(64, (3, 3), activation='relu'))\n",
    "eye_model.add(MaxPooling2D(pool_size=(1,1)))\n",
    "eye_model.add(Dropout(0.25))\n",
    "\n",
    "eye_model.add(Flatten())\n",
    "eye_model.add(Dense(128, activation='relu'))\n",
    "eye_model.add(Dense(2, activation='softmax'))"
   ]
  },
  {
   "cell_type": "code",
   "execution_count": 5,
   "id": "81ec34bf",
   "metadata": {},
   "outputs": [],
   "source": [
    "eye_model.compile(loss='categorical_crossentropy', optimizer=Adam(learning_rate=0.0001, beta_1=0.9, beta_2=0.999, epsilon=1e-07), metrics=['accuracy'])"
   ]
  },
  {
   "cell_type": "code",
   "execution_count": 6,
   "id": "98df7402",
   "metadata": {},
   "outputs": [
    {
     "name": "stdout",
     "output_type": "stream",
     "text": [
      "Model: \"sequential\"\n",
      "_________________________________________________________________\n",
      " Layer (type)                Output Shape              Param #   \n",
      "=================================================================\n",
      " conv2d (Conv2D)             (None, 30, 30, 32)        896       \n",
      "                                                                 \n",
      " max_pooling2d (MaxPooling2  (None, 30, 30, 32)        0         \n",
      " D)                                                              \n",
      "                                                                 \n",
      " conv2d_1 (Conv2D)           (None, 28, 28, 32)        9248      \n",
      "                                                                 \n",
      " max_pooling2d_1 (MaxPoolin  (None, 28, 28, 32)        0         \n",
      " g2D)                                                            \n",
      "                                                                 \n",
      " conv2d_2 (Conv2D)           (None, 26, 26, 64)        18496     \n",
      "                                                                 \n",
      " max_pooling2d_2 (MaxPoolin  (None, 26, 26, 64)        0         \n",
      " g2D)                                                            \n",
      "                                                                 \n",
      " dropout (Dropout)           (None, 26, 26, 64)        0         \n",
      "                                                                 \n",
      " flatten (Flatten)           (None, 43264)             0         \n",
      "                                                                 \n",
      " dense (Dense)               (None, 128)               5537920   \n",
      "                                                                 \n",
      " dense_1 (Dense)             (None, 2)                 258       \n",
      "                                                                 \n",
      "=================================================================\n",
      "Total params: 5566818 (21.24 MB)\n",
      "Trainable params: 5566818 (21.24 MB)\n",
      "Non-trainable params: 0 (0.00 Byte)\n",
      "_________________________________________________________________\n"
     ]
    }
   ],
   "source": [
    "eye_model.summary()"
   ]
  },
  {
   "cell_type": "code",
   "execution_count": 7,
   "id": "218d32a3",
   "metadata": {},
   "outputs": [
    {
     "name": "stdout",
     "output_type": "stream",
     "text": [
      "Epoch 1/10\n",
      "WARNING:tensorflow:From C:\\Users\\User\\anaconda3\\Lib\\site-packages\\keras\\src\\utils\\tf_utils.py:492: The name tf.ragged.RaggedTensorValue is deprecated. Please use tf.compat.v1.ragged.RaggedTensorValue instead.\n",
      "\n",
      "WARNING:tensorflow:From C:\\Users\\User\\anaconda3\\Lib\\site-packages\\keras\\src\\engine\\base_layer_utils.py:384: The name tf.executing_eagerly_outside_functions is deprecated. Please use tf.compat.v1.executing_eagerly_outside_functions instead.\n",
      "\n",
      "974/974 [==============================] - 333s 340ms/step - loss: 0.3639 - accuracy: 0.9250 - val_loss: 0.6745 - val_accuracy: 0.8144\n",
      "Epoch 2/10\n",
      "974/974 [==============================] - 107s 110ms/step - loss: 0.0670 - accuracy: 0.9797 - val_loss: 1.0716 - val_accuracy: 0.7466\n",
      "Epoch 3/10\n",
      "974/974 [==============================] - 108s 111ms/step - loss: 0.0457 - accuracy: 0.9857 - val_loss: 1.3688 - val_accuracy: 0.7070\n",
      "Epoch 4/10\n",
      "974/974 [==============================] - 112s 115ms/step - loss: 0.0391 - accuracy: 0.9880 - val_loss: 1.1329 - val_accuracy: 0.6915\n",
      "Epoch 5/10\n",
      "974/974 [==============================] - 112s 115ms/step - loss: 0.0320 - accuracy: 0.9895 - val_loss: 0.6764 - val_accuracy: 0.8022\n",
      "Epoch 6/10\n",
      "974/974 [==============================] - 113s 116ms/step - loss: 0.0268 - accuracy: 0.9914 - val_loss: 2.8992 - val_accuracy: 0.5911\n",
      "Epoch 7/10\n",
      "974/974 [==============================] - 112s 115ms/step - loss: 0.0262 - accuracy: 0.9914 - val_loss: 1.3785 - val_accuracy: 0.7188\n",
      "Epoch 8/10\n",
      "974/974 [==============================] - 113s 116ms/step - loss: 0.0215 - accuracy: 0.9933 - val_loss: 1.3252 - val_accuracy: 0.7080\n",
      "Epoch 9/10\n",
      "974/974 [==============================] - 113s 116ms/step - loss: 0.0202 - accuracy: 0.9931 - val_loss: 1.8207 - val_accuracy: 0.6995\n",
      "Epoch 10/10\n",
      "974/974 [==============================] - 115s 119ms/step - loss: 0.0153 - accuracy: 0.9950 - val_loss: 2.1220 - val_accuracy: 0.6802\n"
     ]
    }
   ],
   "source": [
    "history = eye_model.fit(train_generator, validation_data=validation_generator, epochs=10)"
   ]
  },
  {
   "cell_type": "code",
   "execution_count": 8,
   "id": "ab6783db",
   "metadata": {},
   "outputs": [
    {
     "data": {
      "image/png": "[encoded data removed]",
      "text/plain": [
       "<Figure size 1200x500 with 2 Axes>"
      ]
     },
     "metadata": {},
     "output_type": "display_data"
    }
   ],
   "source": [
    "#plotting Loss and Validation Loss\n",
    "plt.figure(figsize=(12, 5))\n",
    "plt.subplot(1, 2, 1)\n",
    "plt.plot(history.history['loss'])\n",
    "plt.plot(history.history['val_loss'])\n",
    "plt.title('Model Loss')\n",
    "plt.legend(['Loss','Validation Loss'],loc = 'upper left')\n",
    "plt.subplots_adjust(top=1.0,bottom=0.0,right =0.95,left=0.0,hspace=0.25,wspace=0.35)\n",
    "\n",
    "#plotting accuracy and validation accuracy\n",
    "plt.subplot(1, 2, 2)\n",
    "plt.plot(history.history['accuracy'])\n",
    "plt.plot(history.history['val_accuracy'])\n",
    "plt.title('Model Acuuracy')\n",
    "plt.legend(['accuracy','Validation accuracy'],loc = 'upper left')\n",
    "plt.subplots_adjust(top=1.0,bottom=0.0,right =0.95,left=0.0,hspace=0.25,wspace=0.35)"
   ]
  },
  {
   "cell_type": "markdown",
   "id": "feccc520",
   "metadata": {},
   "source": [
    "# testing the image\n",
    "# importing one of the image for predicting the output is correct or not"
   ]
  },
  {
   "cell_type": "code",
   "execution_count": 9,
   "id": "9948d126",
   "metadata": {},
   "outputs": [
    {
     "name": "stdout",
     "output_type": "stream",
     "text": [
      "(84, 84, 3)\n",
      "(84, 84, 3)\n",
      "(32, 32, 3)\n",
      "(1, 32, 32, 3)\n",
      "1/1 [==============================] - 0s 247ms/step\n"
     ]
    }
   ],
   "source": [
    "import cv2\n",
    "img_height, img_width = 32,32\n",
    "image=cv2.imread(\"s0001_00002_0_0_0_0_0_01.png\")\n",
    "print(image.shape)\n",
    "r_eye = cv2.cvtColor(image,cv2.COLOR_BGR2RGB)\n",
    "print(r_eye.shape)\n",
    "r_eye = cv2.resize(r_eye, (img_height,img_width))\n",
    "print(r_eye.shape)\n",
    "#r_eye= r_eye/255\n",
    "r_eye=  r_eye.reshape((-1, 32, 32, 3))\n",
    "print(r_eye.shape)\n",
    "#r_eye = np.expand_dims(r_eye,axis=0)\n",
    "pred=eye_model.predict(r_eye)"
   ]
  },
  {
   "cell_type": "markdown",
   "id": "e4ffab00",
   "metadata": {},
   "source": [
    "# 0 is close 1 is open"
   ]
  },
  {
   "cell_type": "code",
   "execution_count": 10,
   "id": "e38e43c1",
   "metadata": {},
   "outputs": [
    {
     "data": {
      "text/plain": [
       "0"
      ]
     },
     "execution_count": 10,
     "metadata": {},
     "output_type": "execute_result"
    }
   ],
   "source": [
    "np.argmax(pred)"
   ]
  },
  {
   "cell_type": "code",
   "execution_count": 11,
   "id": "4c918a60",
   "metadata": {},
   "outputs": [],
   "source": [
    "import cv2\n",
    "img_height, img_width = 32,32\n",
    "image=cv2.imread(\"s0001_00002_0_0_0_0_0_01.png\")\n",
    "image_resized= cv2.resize(image, (img_height,img_width))\n",
    "image=np.expand_dims(image_resized,axis=0)"
   ]
  },
  {
   "cell_type": "code",
   "execution_count": 12,
   "id": "14d14a16",
   "metadata": {},
   "outputs": [
    {
     "name": "stdout",
     "output_type": "stream",
     "text": [
      "1/1 [==============================] - 0s 27ms/step\n"
     ]
    }
   ],
   "source": [
    "#predicting the images \n",
    "pred=eye_model.predict(image)"
   ]
  },
  {
   "cell_type": "code",
   "execution_count": 13,
   "id": "2ae55736",
   "metadata": {},
   "outputs": [
    {
     "name": "stdout",
     "output_type": "stream",
     "text": [
      "The predicted image is 0\n"
     ]
    }
   ],
   "source": [
    "# 0 is close 1 is open\n",
    "output=np.argmax(pred)\n",
    "print(\"The predicted image is\", output)"
   ]
  },
  {
   "cell_type": "code",
   "execution_count": 14,
   "id": "cf8763d8",
   "metadata": {},
   "outputs": [
    {
     "name": "stderr",
     "output_type": "stream",
     "text": [
      "C:\\Users\\User\\anaconda3\\Lib\\site-packages\\keras\\src\\engine\\training.py:3103: UserWarning: You are saving your model as an HDF5 file via `model.save()`. This file format is considered legacy. We recommend using instead the native Keras format, e.g. `model.save('my_model.keras')`.\n",
      "  saving_api.save_model(\n"
     ]
    }
   ],
   "source": [
    "# save trained model weight in .h5 file\n",
    "eye_model.save(\"eye_cnn.h5\")"
   ]
  },
  {
   "cell_type": "code",
   "execution_count": 15,
   "id": "60d36724",
   "metadata": {},
   "outputs": [
    {
     "name": "stdout",
     "output_type": "stream",
     "text": [
      "1/1 [==============================] - 0s 128ms/step\n",
      "[0]\n"
     ]
    }
   ],
   "source": [
    "from keras.models import load_model\n",
    "test_model = load_model('eye_cnn.h5')\n",
    "pred = np.argmax(test_model.predict(image), axis=-1)\n",
    "print(pred)"
   ]
  },
  {
   "cell_type": "code",
   "execution_count": null,
   "id": "aef00066",
   "metadata": {},
   "outputs": [],
   "source": []
  }
 ],
 "metadata": {
  "kernelspec": {
   "display_name": "Python 3 (ipykernel)",
   "language": "python",
   "name": "python3"
  },
  "language_info": {
   "codemirror_mode": {
    "name": "ipython",
    "version": 3
   },
   "file_extension": ".py",
   "mimetype": "text/x-python",
   "name": "python",
   "nbconvert_exporter": "python",
   "pygments_lexer": "ipython3",
   "version": "3.11.5"
  }
 },
 "nbformat": 4,
 "nbformat_minor": 5
}
